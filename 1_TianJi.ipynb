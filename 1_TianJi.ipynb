{
 "cells": [
  {
   "cell_type": "markdown",
   "metadata": {},
   "source": [
    "# AI Investigation: Using Tianji Horse Racing Game to test strategy for simple deterministic games #\n",
    "## AI Investigation Part 1 ##\n",
    "\n",
    "#### *Goal: test basic strategy to determine dominant option (win data only, win data + loss data)* \n",
    "\n",
    "#### Also preliminary exploration for multiple-dominant-strategy games\n",
    "\n",
    "Creator: `Lang (Ron) Chen` 2022"
   ]
  },
  {
   "cell_type": "code",
   "execution_count": 1,
   "metadata": {},
   "outputs": [],
   "source": [
    "import random\n",
    "import math as m"
   ]
  },
  {
   "cell_type": "markdown",
   "metadata": {},
   "source": [
    "**Define Game**\n",
    "\n",
    "A game where all three of our horses are of lower power (definitely will lose) than the matching ranked enemy horse. However we can win by doing (3, 1, 2).\n",
    "\n",
    "An alternative game is set up where there are more than one way to win (3, 2, 1) (3, 1, 2). This is used as a preliminary exploration for games with multiple dominant strategies."
   ]
  },
  {
   "cell_type": "code",
   "execution_count": 2,
   "metadata": {},
   "outputs": [],
   "source": [
    "# Game data for standard Tianji game\n",
    "NPC_ability = (3.5, 2.5, 1.5)\n",
    "our_ability = (3, 2, 1)"
   ]
  },
  {
   "cell_type": "code",
   "execution_count": 3,
   "metadata": {},
   "outputs": [],
   "source": [
    "# # Game data for nonstandard Tianji game - multiple ways to win\n",
    "# NPC_ability = (3.5, 2, 1.5)\n",
    "# our_ability = (3, 2.5, 1)"
   ]
  },
  {
   "cell_type": "code",
   "execution_count": 4,
   "metadata": {},
   "outputs": [],
   "source": [
    "# Our Options\n",
    "choice = (1, 2, 3)"
   ]
  },
  {
   "cell_type": "code",
   "execution_count": 5,
   "metadata": {},
   "outputs": [],
   "source": [
    "def winloss(seq):\n",
    "    wins = 0\n",
    "    for i in range(len(seq)):\n",
    "        if our_ability[seq[i]-1] > NPC_ability[i]:\n",
    "            wins += 1\n",
    "    if wins >= 2:\n",
    "        return 1\n",
    "    return 0"
   ]
  },
  {
   "cell_type": "code",
   "execution_count": 6,
   "metadata": {},
   "outputs": [],
   "source": [
    "def validation_TianJi(final_choice, choice):\n",
    "    if len(set(final_choice)) != len(choice):\n",
    "        return False\n",
    "    for i in range(len(final_choice)):\n",
    "        if final_choice[i] not in choice:\n",
    "            return False\n",
    "    return True"
   ]
  },
  {
   "cell_type": "markdown",
   "metadata": {},
   "source": [
    "**Simulation** "
   ]
  },
  {
   "cell_type": "code",
   "execution_count": 7,
   "metadata": {},
   "outputs": [],
   "source": [
    "RUNS = 100000\n",
    "sample = list()\n",
    "victory = list()\n",
    "for i in range(RUNS):\n",
    "    obs = random.sample(choice, 3)\n",
    "    sample.append(obs)\n",
    "    victory.append(winloss(obs))"
   ]
  },
  {
   "cell_type": "code",
   "execution_count": 8,
   "metadata": {},
   "outputs": [
    {
     "name": "stdout",
     "output_type": "stream",
     "text": [
      "Wins: 16397\n",
      "Win rate: 0.16397\n"
     ]
    }
   ],
   "source": [
    "print(f'Wins: {sum(victory)}')\n",
    "print(f'Win rate: {sum(victory)/RUNS}')"
   ]
  },
  {
   "cell_type": "markdown",
   "metadata": {},
   "source": [
    " "
   ]
  },
  {
   "cell_type": "markdown",
   "metadata": {},
   "source": [
    "**Manipulation (Win data only)** *i.e. proportions*"
   ]
  },
  {
   "cell_type": "code",
   "execution_count": 9,
   "metadata": {},
   "outputs": [],
   "source": [
    "# Preprocessing the data\n",
    "winindex_algo1 = list()\n",
    "for i in range(10000):\n",
    "    if victory[i]:\n",
    "        winindex_algo1.append(i)\n",
    "\n",
    "winsamples_algo1 = list()\n",
    "for i in range(len(winindex_algo1)):\n",
    "    winsamples_algo1.append(sample[winindex_algo1[i]])"
   ]
  },
  {
   "cell_type": "markdown",
   "metadata": {},
   "source": [
    "**Algorithm 1 (Win data only)** *i.e. proportions*\n",
    "\n",
    "<i> Algorithm explanation: counting up the number of appearences of each of 0, 1, 2 for each position of the winning games. And then picking the max to fill that position </i>"
   ]
  },
  {
   "cell_type": "code",
   "execution_count": 10,
   "metadata": {},
   "outputs": [
    {
     "data": {
      "text/plain": [
       "[3, 1, 2]"
      ]
     },
     "execution_count": 10,
     "metadata": {},
     "output_type": "execute_result"
    }
   ],
   "source": [
    "# Core Algorithm\n",
    "\n",
    "final_choice_algo1 = [-1, -1, -1]\n",
    "\n",
    "viewing_details_tally_algo1 = list()\n",
    "viewing_details_tmp_algo1 = list()\n",
    "\n",
    "for i in range(len(choice)):\n",
    "    tally = {1:0, 2:0, 3:0}\n",
    "    for j in range(len(winsamples_algo1)): \n",
    "        tally[winsamples_algo1[j][i]] += 1\n",
    "    tmp = list(tally.items())\n",
    "    tmp.sort(key = lambda x:x[1], reverse = True)\n",
    "    final_choice_algo1[i] = tmp[0][0]\n",
    "    \n",
    "    viewing_details_tmp_algo1.append(tmp)\n",
    "    viewing_details_tally_algo1.append(tally)\n",
    "    \n",
    "final_choice_algo1"
   ]
  },
  {
   "cell_type": "markdown",
   "metadata": {},
   "source": [
    "The algorithm successfully returned the only solution: [3. 1, 2]"
   ]
  },
  {
   "cell_type": "markdown",
   "metadata": {},
   "source": [
    "**Validation**"
   ]
  },
  {
   "cell_type": "code",
   "execution_count": 11,
   "metadata": {},
   "outputs": [
    {
     "data": {
      "text/plain": [
       "True"
      ]
     },
     "execution_count": 11,
     "metadata": {},
     "output_type": "execute_result"
    }
   ],
   "source": [
    "validation_TianJi(final_choice_algo1, choice)"
   ]
  },
  {
   "cell_type": "markdown",
   "metadata": {},
   "source": [
    "**Emperical Testing**"
   ]
  },
  {
   "cell_type": "code",
   "execution_count": 12,
   "metadata": {},
   "outputs": [],
   "source": [
    "victory_algo1 = list()\n",
    "for i in range(RUNS):\n",
    "    victory_algo1.append(winloss(final_choice_algo1))"
   ]
  },
  {
   "cell_type": "code",
   "execution_count": 13,
   "metadata": {},
   "outputs": [
    {
     "name": "stdout",
     "output_type": "stream",
     "text": [
      "wins: 100000\n",
      "win rate: 1.0\n"
     ]
    }
   ],
   "source": [
    "print(f'wins: {sum(victory_algo1)}')\n",
    "print(f'win rate: {sum(victory_algo1)/RUNS}')"
   ]
  },
  {
   "cell_type": "markdown",
   "metadata": {},
   "source": [
    "***Viewing Details***"
   ]
  },
  {
   "cell_type": "code",
   "execution_count": 14,
   "metadata": {},
   "outputs": [
    {
     "data": {
      "text/plain": [
       "[{1: 0, 2: 0, 3: 1606}, {1: 1606, 2: 0, 3: 0}, {1: 0, 2: 1606, 3: 0}]"
      ]
     },
     "execution_count": 14,
     "metadata": {},
     "output_type": "execute_result"
    }
   ],
   "source": [
    "viewing_details_tally_algo1"
   ]
  },
  {
   "cell_type": "code",
   "execution_count": 15,
   "metadata": {},
   "outputs": [
    {
     "data": {
      "text/plain": [
       "[[(3, 1606), (1, 0), (2, 0)],\n",
       " [(1, 1606), (2, 0), (3, 0)],\n",
       " [(2, 1606), (1, 0), (3, 0)]]"
      ]
     },
     "execution_count": 15,
     "metadata": {},
     "output_type": "execute_result"
    }
   ],
   "source": [
    "viewing_details_tmp_algo1"
   ]
  },
  {
   "cell_type": "markdown",
   "metadata": {},
   "source": [
    "---\n",
    "**Manipulation (Use both win and lose data )** *i.e. mean*"
   ]
  },
  {
   "cell_type": "code",
   "execution_count": 16,
   "metadata": {},
   "outputs": [],
   "source": [
    "# Preprocessing the data\n",
    "winsamples_algo2 = list()\n",
    "losesamples_algo2 = list()\n",
    "for i in range(len(sample)):\n",
    "    if victory[i]:\n",
    "        winsamples_algo2.append(sample[i])\n",
    "    else:\n",
    "        losesamples_algo2.append(sample[i])"
   ]
  },
  {
   "cell_type": "markdown",
   "metadata": {},
   "source": [
    "<b>Algorithm 2 (Use both win and lose data)</b> *i.e. mean*"
   ]
  },
  {
   "cell_type": "code",
   "execution_count": 17,
   "metadata": {},
   "outputs": [
    {
     "data": {
      "text/plain": [
       "[3, 1, 2]"
      ]
     },
     "execution_count": 17,
     "metadata": {},
     "output_type": "execute_result"
    }
   ],
   "source": [
    "# Core Algorithm\n",
    "final_choice_algo2 = [-1, -1, -1]\n",
    "\n",
    "viewing_details_tally_algo2 = list()\n",
    "viewing_details_tmp_algo2 = list()\n",
    "\n",
    "for i in range(len(choice)):\n",
    "    tally = {1:0, 2:0, 3:0}\n",
    "    for j in range(len(winsamples_algo2)): \n",
    "        tally[winsamples_algo2[j][i]] += 1\n",
    "    for j in range(len(losesamples_algo2)): \n",
    "        tally[losesamples_algo2[j][i]] -= 1\n",
    "    tmp = list(tally.items())\n",
    "    tmp.sort(key = lambda x:x[1], reverse = True)\n",
    "    final_choice_algo2[i] = tmp[0][0]\n",
    "    \n",
    "    viewing_details_tmp_algo2.append(tmp)\n",
    "    viewing_details_tally_algo2.append(tally)\n",
    "    \n",
    "final_choice_algo2"
   ]
  },
  {
   "cell_type": "markdown",
   "metadata": {},
   "source": [
    "The algorithm successfully returned the only solution: [3, 1, 2]"
   ]
  },
  {
   "cell_type": "markdown",
   "metadata": {},
   "source": [
    "**Validation**"
   ]
  },
  {
   "cell_type": "code",
   "execution_count": 18,
   "metadata": {},
   "outputs": [
    {
     "data": {
      "text/plain": [
       "True"
      ]
     },
     "execution_count": 18,
     "metadata": {},
     "output_type": "execute_result"
    }
   ],
   "source": [
    "validation_TianJi(final_choice_algo1, choice)"
   ]
  },
  {
   "cell_type": "markdown",
   "metadata": {},
   "source": [
    "**Emperical Testing**"
   ]
  },
  {
   "cell_type": "code",
   "execution_count": 19,
   "metadata": {},
   "outputs": [],
   "source": [
    "victory_algo2 = list()\n",
    "for i in range(RUNS):\n",
    "    victory_algo2.append(winloss(final_choice_algo2))"
   ]
  },
  {
   "cell_type": "code",
   "execution_count": 20,
   "metadata": {},
   "outputs": [
    {
     "name": "stdout",
     "output_type": "stream",
     "text": [
      "wins: 100000\n",
      "win rate: 1.0\n"
     ]
    }
   ],
   "source": [
    "print(f'wins: {sum(victory_algo1)}')\n",
    "print(f'win rate: {sum(victory_algo1)/RUNS}')"
   ]
  },
  {
   "cell_type": "markdown",
   "metadata": {},
   "source": [
    "***Viewing Details***"
   ]
  },
  {
   "cell_type": "code",
   "execution_count": 21,
   "metadata": {},
   "outputs": [
    {
     "data": {
      "text/plain": [
       "[{1: -33370, 2: -33683, 3: -153},\n",
       " {1: -379, 2: -33061, 3: -33766},\n",
       " {1: -33457, 2: -462, 3: -33287}]"
      ]
     },
     "execution_count": 21,
     "metadata": {},
     "output_type": "execute_result"
    }
   ],
   "source": [
    "viewing_details_tally_algo2"
   ]
  },
  {
   "cell_type": "code",
   "execution_count": 22,
   "metadata": {},
   "outputs": [
    {
     "data": {
      "text/plain": [
       "[[(3, -153), (1, -33370), (2, -33683)],\n",
       " [(1, -379), (2, -33061), (3, -33766)],\n",
       " [(2, -462), (3, -33287), (1, -33457)]]"
      ]
     },
     "execution_count": 22,
     "metadata": {},
     "output_type": "execute_result"
    }
   ],
   "source": [
    "viewing_details_tmp_algo2"
   ]
  },
  {
   "cell_type": "markdown",
   "metadata": {},
   "source": [
    " "
   ]
  },
  {
   "cell_type": "markdown",
   "metadata": {},
   "source": [
    "## Problem with code:\n",
    "\n",
    "These two algorithms did not use mean/proportions to summarise the statistics, rather only the raw count. Whilst it did not affect the results of this game, it is unfair for other games because the number of times we simulate a certain choice for a certain spot is random (and almost certainly not equal), meaning raw counts are like 'unscaled data'.\n",
    "\n",
    "From algorithm 2 onwards this error has been amended."
   ]
  }
 ],
 "metadata": {
  "kernelspec": {
   "display_name": "Python 3 (ipykernel)",
   "language": "python",
   "name": "python3"
  },
  "language_info": {
   "codemirror_mode": {
    "name": "ipython",
    "version": 3
   },
   "file_extension": ".py",
   "mimetype": "text/x-python",
   "name": "python",
   "nbconvert_exporter": "python",
   "pygments_lexer": "ipython3",
   "version": "3.9.7"
  }
 },
 "nbformat": 4,
 "nbformat_minor": 4
}
