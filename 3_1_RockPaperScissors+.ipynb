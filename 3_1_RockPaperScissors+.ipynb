{
 "cells": [
  {
   "cell_type": "markdown",
   "metadata": {},
   "source": [
    "# AI Investigation: Using \"Rock Paper Scissors\" to experiment using Confidence Intervals to determine inconclusive victories #\n",
    "### **with double mean CI instead of single mean CI* ###\n",
    "## AI Investigation Part 3+ ##\n",
    "\n",
    "#### *Goal: further test using Confidence Intervals to determine inconclusive victories: 2+ options and non-binary game results* ####\n",
    "#### *Also amended previous problem of using single mean to construct CI* ####\n",
    "\n",
    "Creator: `Lang (Ron) Chen` 2022"
   ]
  },
  {
   "cell_type": "code",
   "execution_count": 1,
   "metadata": {},
   "outputs": [],
   "source": [
    "import random\n",
    "import numpy as np\n",
    "import statistics as s\n",
    "import scipy.stats"
   ]
  },
  {
   "cell_type": "markdown",
   "metadata": {},
   "source": [
    "## Define Game\n",
    "\n",
    "### Rock Paper Scissors\n",
    "\n",
    "`Win chance 1/3; Lose chance 1/3; Draw chance 1/3`\n",
    "\n",
    "Set a random variable X for the result of the game to be 1 (if win), 0 (if draw), -1 (if lose)\n",
    "\n",
    "Thus, `E(X) = 0`; `V(X) = 2/3`"
   ]
  },
  {
   "cell_type": "code",
   "execution_count": 2,
   "metadata": {},
   "outputs": [],
   "source": [
    "CHOICE = ['R', 'P', 'S']"
   ]
  },
  {
   "cell_type": "code",
   "execution_count": 3,
   "metadata": {},
   "outputs": [],
   "source": [
    "def winloss(player1, player2):\n",
    "    if player1 == 'R':\n",
    "        if player2 == 'S':\n",
    "            return 1\n",
    "        elif player2 == 'P':\n",
    "            return -1\n",
    "        \n",
    "    elif player1 == 'P':\n",
    "        if player2 == 'R':\n",
    "            return 1\n",
    "        elif player2 == 'S':\n",
    "            return -1\n",
    "        \n",
    "    else:\n",
    "        if player2 == 'P':\n",
    "            return 1\n",
    "        elif player2 == 'R':\n",
    "            return -1\n",
    "    \n",
    "    return 0"
   ]
  },
  {
   "cell_type": "markdown",
   "metadata": {},
   "source": [
    "**Simulation**"
   ]
  },
  {
   "cell_type": "code",
   "execution_count": 4,
   "metadata": {},
   "outputs": [],
   "source": [
    "RUNS = 1000000\n",
    "\n",
    "data = {'R': list(), 'P': list(), 'S': list()}\n",
    "\n",
    "sample = list()\n",
    "victory = list()\n",
    "for i in range(RUNS):\n",
    "    obs1 = random.sample(CHOICE, 1)[0]\n",
    "    obs2 = random.sample(CHOICE, 1)[0]\n",
    "    \n",
    "    data[obs1].append(winloss(obs1, obs2))"
   ]
  },
  {
   "cell_type": "markdown",
   "metadata": {},
   "source": [
    "**Algorithm for final choice**\n",
    "\n",
    "First: Manipulate data so that it is in a dictionary and the dictionary value is [mean, stdev, length]"
   ]
  },
  {
   "cell_type": "code",
   "execution_count": 5,
   "metadata": {},
   "outputs": [
    {
     "data": {
      "text/plain": [
       "{'R': [0.0006029336772954975, 0.8167883765719353, 333370],\n",
       " 'P': [0.0008683685488329607, 0.8159248986436104, 332808],\n",
       " 'S': [-0.0006021172960439995, 0.8164663959420605, 333822]}"
      ]
     },
     "execution_count": 5,
     "metadata": {},
     "output_type": "execute_result"
    }
   ],
   "source": [
    "stats = dict()\n",
    "for choice in CHOICE:\n",
    "    tmp = list()\n",
    "    tmp.append(s.mean(data[choice]))\n",
    "    tmp.append(s.stdev(data[choice]))\n",
    "    tmp.append(len(data[choice]))\n",
    "    \n",
    "    stats[choice] = tmp\n",
    "\n",
    "stats"
   ]
  },
  {
   "cell_type": "code",
   "execution_count": 6,
   "metadata": {},
   "outputs": [],
   "source": [
    "def final_choice(stats):\n",
    "    \n",
    "    stats.sort(key = lambda x:x[1][0], reverse = True)\n",
    "\n",
    "    # Then tests whether the second, third and so forth values contain 0 within their joint Confidence Intervals\n",
    "    inconclusive_list = [stats[0][0]]\n",
    "    inconclusive = False\n",
    "    for i in range(1, len(stats)):\n",
    "        if in_range(construct_CI(stats[0], stats[i])):\n",
    "            inconclusive_list.append(stats[i][0])\n",
    "            inconclusive = True\n",
    "        else: # Because all values are sorted, if the current choice's joint Confidence Interval with the first ranked does not contain 0, then all the others wouldn't \n",
    "            break\n",
    "            \n",
    "    if inconclusive: # If inconclusive, return statement with the list of 'drawed' choices\n",
    "        return f'Inconclusive: the following came to a draw {inconclusive_list}'\n",
    "    \n",
    "    return stats[0][0] # Else, return the dominant strategy"
   ]
  },
  {
   "cell_type": "code",
   "execution_count": 7,
   "metadata": {},
   "outputs": [],
   "source": [
    "def construct_CI(stat1, stat2):\n",
    "    \"\"\" Uses Welch's approximation to construct a joint CI of two means, unknown population variance and assuming different variance \"\"\"\n",
    "    \n",
    "    xbar1 = stat1[1][0]\n",
    "    xbar2 = stat2[1][0]\n",
    "    s1 = stat1[1][1]\n",
    "    s2 = stat2[1][1]\n",
    "    n = stat1[1][2]\n",
    "    m = stat2[1][2]\n",
    "    \n",
    "    r = (s1**2 /n + s2**2 /m)**2 /(s1**4 /(n**2 * (n-1)) + s2**4 /(m**2 * (m-1)))\n",
    "    \n",
    "    q = scipy.stats.t.ppf(0.95, df = r)\n",
    "    \n",
    "    poolsd = np.sqrt(s1**2 /n + s2**2 /m)\n",
    "    \n",
    "    CI = (xbar1 - xbar2 - q * poolsd, xbar1 - xbar2 + q * poolsd)\n",
    "    \n",
    "    print(f'{stat1[0]} {stat2[0]}: {CI}')\n",
    "    print('\\n')\n",
    "    \n",
    "    return CI"
   ]
  },
  {
   "cell_type": "code",
   "execution_count": 8,
   "metadata": {},
   "outputs": [],
   "source": [
    "def in_range(CI):\n",
    "    \"\"\" Helper function to check whether 0 is within the Confidence Interval \"\"\"\n",
    "    \n",
    "    if CI[0] <= 0 and CI[1] >= 0:\n",
    "        return True\n",
    "    return False"
   ]
  },
  {
   "cell_type": "code",
   "execution_count": 9,
   "metadata": {},
   "outputs": [
    {
     "data": {
      "text/plain": [
       "{'R': [0.0006029336772954975, 0.8167883765719353, 333370],\n",
       " 'P': [0.0008683685488329607, 0.8159248986436104, 332808],\n",
       " 'S': [-0.0006021172960439995, 0.8164663959420605, 333822]}"
      ]
     },
     "execution_count": 9,
     "metadata": {},
     "output_type": "execute_result"
    }
   ],
   "source": [
    "stats"
   ]
  },
  {
   "cell_type": "code",
   "execution_count": 10,
   "metadata": {},
   "outputs": [
    {
     "name": "stdout",
     "output_type": "stream",
     "text": [
      "P R: (-0.0030249194161819553, 0.0035557891592568813)\n",
      "\n",
      "\n",
      "P S: (-0.0018181062651184583, 0.004759077954872379)\n",
      "\n",
      "\n"
     ]
    },
    {
     "data": {
      "text/plain": [
       "\"Inconclusive: the following came to a draw ['P', 'R', 'S']\""
      ]
     },
     "execution_count": 10,
     "metadata": {},
     "output_type": "execute_result"
    }
   ],
   "source": [
    "final_choice(list(stats.items()))"
   ]
  },
  {
   "cell_type": "markdown",
   "metadata": {},
   "source": [
    "## A few words on experimental results:\n",
    "\n",
    "Overall when using the 2-mean CI the results were better. However there were still times when the 95% CI did not give the correct answer of all three being draws. Thus conducting a proper experiment for what % CI to use is vital.\n",
    "\n",
    "---"
   ]
  },
  {
   "cell_type": "markdown",
   "metadata": {},
   "source": [
    "*This time did not test Normal distribution because most of the time we work assuming we don't know the population variance.*"
   ]
  }
 ],
 "metadata": {
  "kernelspec": {
   "display_name": "Python 3 (ipykernel)",
   "language": "python",
   "name": "python3"
  },
  "language_info": {
   "codemirror_mode": {
    "name": "ipython",
    "version": 3
   },
   "file_extension": ".py",
   "mimetype": "text/x-python",
   "name": "python",
   "nbconvert_exporter": "python",
   "pygments_lexer": "ipython3",
   "version": "3.9.7"
  }
 },
 "nbformat": 4,
 "nbformat_minor": 4
}
