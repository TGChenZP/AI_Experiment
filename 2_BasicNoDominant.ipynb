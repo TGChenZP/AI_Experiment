{
 "cells": [
  {
   "cell_type": "markdown",
   "metadata": {},
   "source": [
    "# AI Investigation: Using Binary Output Game with No Dominant Strategy to experiment using Confidence Intervals to determine inconclusive victories #\n",
    "## AI Investigation Part 2 ##\n",
    "\n",
    "#### *Goal: test using Confidence Intervals to determine inconclusive victories* \n",
    "\n",
    "Creator: `Lang (Ron) Chen` 2022"
   ]
  },
  {
   "cell_type": "code",
   "execution_count": null,
   "metadata": {},
   "outputs": [],
   "source": [
    "import random\n",
    "import math as m"
   ]
  },
  {
   "cell_type": "markdown",
   "metadata": {},
   "source": [
    "**Define Game**\n",
    "\n",
    "Basically a game with no optimal strategy. The chance of winning is 50% regardless of what strategy is chosen.\n",
    "\n",
    "(The game is similar to Rock Paper Scissors, except deliberately avoided the chance of draws)"
   ]
  },
  {
   "cell_type": "code",
   "execution_count": null,
   "metadata": {},
   "outputs": [],
   "source": [
    "CHOICE1 = ['A', 'B']\n",
    "CHOICE2 = ['C', 'D']"
   ]
  },
  {
   "cell_type": "code",
   "execution_count": null,
   "metadata": {},
   "outputs": [],
   "source": [
    "def winloss(player1, player2):\n",
    "    \"\"\" If player 1 plays A and player 2 plays C, then player 1 wins; if player 2 plays D then player 1 loses. If player 2 plays B \n",
    "    and player 2 plays C, then player 1 loses, if player 2 plays D then player 1 wins \"\"\"\n",
    "    \n",
    "    if player1 == 'A':\n",
    "        if player2 == 'C':\n",
    "            return True\n",
    "        else:\n",
    "            return False\n",
    "    else:\n",
    "        if player2 == 'D':\n",
    "            return True\n",
    "        else:\n",
    "            return False"
   ]
  },
  {
   "cell_type": "markdown",
   "metadata": {},
   "source": [
    "**Simulation**"
   ]
  },
  {
   "cell_type": "code",
   "execution_count": 4,
   "metadata": {},
   "outputs": [],
   "source": [
    "RUNS = 100000\n",
    "\n",
    "sample = list()\n",
    "victory = list()\n",
    "for i in range(RUNS):\n",
    "    obs1 = random.sample(CHOICE1, 1)[0]\n",
    "    obs2 = random.sample(CHOICE2, 1)[0]\n",
    "    sample.append(obs1)\n",
    "    victory.append(winloss(obs1[0], obs2[0]))"
   ]
  },
  {
   "cell_type": "markdown",
   "metadata": {},
   "source": [
    "**Manipulation** *Sidenote: In future basic data collection should be done WITHIN Simulation to save time*"
   ]
  },
  {
   "cell_type": "code",
   "execution_count": 5,
   "metadata": {},
   "outputs": [],
   "source": [
    "A_Score = 0\n",
    "B_Score = 0\n",
    "\n",
    "A_win = 0\n",
    "B_win = 0\n",
    "\n",
    "A_Count = 0\n",
    "B_Count = 0\n",
    "\n",
    "for i in range(RUNS):\n",
    "    if sample[i] == 'A':\n",
    "        A_Count += 1\n",
    "        if victory[i]:\n",
    "            A_Score += 1\n",
    "            A_win += 1\n",
    "        else:\n",
    "            A_Score -= 1\n",
    "    else:\n",
    "        B_Count += 1\n",
    "        if victory[i]:\n",
    "            B_Score += 1\n",
    "            B_win += 1\n",
    "        else:\n",
    "            B_Score -= 1\n",
    "            \n",
    "ScoreDict = ({'A': A_Score, 'B': B_Score})            "
   ]
  },
  {
   "cell_type": "markdown",
   "metadata": {},
   "source": [
    "Can get an estimate of p by:\n",
    "\n",
    "`E(X) = 2p-1`    =>    `p_hat = (x_bar + 1)/2`"
   ]
  },
  {
   "cell_type": "code",
   "execution_count": 6,
   "metadata": {},
   "outputs": [],
   "source": [
    "A_Mean = A_Score/A_Count\n",
    "B_Mean = B_Score/B_Count\n",
    "\n",
    "P_A = (A_Mean + 1)/2\n",
    "P_B = (B_Mean + 1)/2"
   ]
  },
  {
   "cell_type": "markdown",
   "metadata": {},
   "source": [
    "Constructing confidence interval using \n",
    "\n",
    "`Mean = 2p-1`\n",
    "\n",
    "`Var = 4(p_hat)(1-(p_hat))`\n",
    "\n",
    "(here we use p_hat as an approximation for p)"
   ]
  },
  {
   "cell_type": "code",
   "execution_count": 7,
   "metadata": {},
   "outputs": [],
   "source": [
    "A_99CI = ((A_Mean/2) + 0.5 + (-1) * 2.57 * m.sqrt(4*P_A*(1-P_A))/(2*(m.sqrt(A_Count))), \n",
    "          (A_Mean/2) + 0.5 + (1) * 2.57 * m.sqrt(4*P_A*(1-P_A))/(2*(m.sqrt(A_Count))))"
   ]
  },
  {
   "cell_type": "code",
   "execution_count": 8,
   "metadata": {},
   "outputs": [
    {
     "name": "stdout",
     "output_type": "stream",
     "text": [
      "A_Score: 111\n",
      "B_Score: -55\n",
      "A_Count: 50083\n",
      "B_Count: 49917\n",
      "A_Mean: 0.0022163209072938923\n",
      "B_Mean: -0.001101829036200092\n",
      "P_A: 0.5011081604536469\n",
      "P_B: 0.4994490854819\n",
      "99% Confidence Interval: (0.49536624368035564, 0.5068500772269382)\n"
     ]
    }
   ],
   "source": [
    "print(f'A_Score: {A_Score}')\n",
    "print(f'B_Score: {B_Score}')\n",
    "print(f'A_Count: {A_Count}')\n",
    "print(f'B_Count: {B_Count}')\n",
    "print(f'A_Mean: {A_Mean}')\n",
    "print(f'B_Mean: {B_Mean}')\n",
    "print(f'P_A: {P_A}')\n",
    "print(f'P_B: {P_B}')\n",
    "print(f'99% Confidence Interval: {A_99CI}')"
   ]
  },
  {
   "cell_type": "code",
   "execution_count": 9,
   "metadata": {},
   "outputs": [
    {
     "name": "stdout",
     "output_type": "stream",
     "text": [
      "P_A: 0.5011081604536469\n",
      "P_B: 0.4994490854819\n"
     ]
    }
   ],
   "source": [
    "print(f'P_A: {A_win/A_Count}')\n",
    "print(f'P_B: {B_win/B_Count}')"
   ]
  },
  {
   "cell_type": "markdown",
   "metadata": {},
   "source": [
    "**Algorithm** "
   ]
  },
  {
   "cell_type": "code",
   "execution_count": 10,
   "metadata": {},
   "outputs": [],
   "source": [
    "def final_choice(ScoreDict, Scores, Counts):\n",
    "    first = sorted(list(ScoreDict.items()), key = lambda x:x[1], reverse = True)[0][0]\n",
    "    second = sorted(list(ScoreDict.items()), key = lambda x:x[1], reverse = True)[1][0]\n",
    "    \n",
    "    Means = {'A': Scores['A']/Counts['A'], 'B': Scores['B']/Counts['B']}\n",
    "    \n",
    "    Ps = {'A': (A_Mean + 1)/2, 'B': (B_Mean + 1)/2}\n",
    "    \n",
    "    # Construct 99% Confidence interval. If P of 'second' belongs in the 99% CI of first, then we cannot conclude that first is a \n",
    "    # dominant strategy \n",
    "    CI99 = ((Means[first]/2) + 0.5 + (-1) * 2.57 * m.sqrt(4*Ps[first]*(1-Ps[first]))/(2*(m.sqrt(Counts[first]))), \n",
    "          (Means[first]/2) + 0.5 + (1) * 2.57 * m.sqrt(4*Ps[first]*(1-Ps[first]))/(2*(m.sqrt(Counts[first]))))\n",
    "    \n",
    "    print(f'P_A: {Ps[\"A\"]}')\n",
    "    print(f'P_B: {Ps[\"B\"]}')\n",
    "    print(f'99% Confidence Interval: {CI99}')\n",
    "    \n",
    "    if Ps[second] > CI99[0] and Ps[second] < CI99[1]:\n",
    "        return \"No dominant strategy\"\n",
    "    \n",
    "    return first"
   ]
  },
  {
   "cell_type": "code",
   "execution_count": 11,
   "metadata": {},
   "outputs": [],
   "source": [
    "Scores = {'A': A_Score, 'B': B_Score}\n",
    "Counts = {'A': A_Count, 'B': B_Count}"
   ]
  },
  {
   "cell_type": "code",
   "execution_count": 12,
   "metadata": {},
   "outputs": [
    {
     "name": "stdout",
     "output_type": "stream",
     "text": [
      "P_A: 0.5011081604536469\n",
      "P_B: 0.4994490854819\n",
      "99% Confidence Interval: (0.49536624368035564, 0.5068500772269382)\n"
     ]
    },
    {
     "data": {
      "text/plain": [
       "'No dominant strategy'"
      ]
     },
     "execution_count": 12,
     "metadata": {},
     "output_type": "execute_result"
    }
   ],
   "source": [
    "final_choice(ScoreDict, Scores, Counts)"
   ]
  },
  {
   "cell_type": "markdown",
   "metadata": {},
   "source": [
    "## Final Note\n",
    "\n",
    "Whilst this is a success, in reality changing the data into proportions is the same as using the mean to construct confidence intervals. In fact using the mean is more beneficial for games where the output are not binary (i.e. contain draws)"
   ]
  }
 ],
 "metadata": {
  "kernelspec": {
   "display_name": "Python 3 (ipykernel)",
   "language": "python",
   "name": "python3"
  },
  "language_info": {
   "codemirror_mode": {
    "name": "ipython",
    "version": 3
   },
   "file_extension": ".py",
   "mimetype": "text/x-python",
   "name": "python",
   "nbconvert_exporter": "python",
   "pygments_lexer": "ipython3",
   "version": "3.9.7"
  }
 },
 "nbformat": 4,
 "nbformat_minor": 4
}
